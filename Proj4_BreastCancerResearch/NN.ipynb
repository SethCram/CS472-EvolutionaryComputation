{
 "cells": [
  {
   "cell_type": "code",
   "execution_count": 22,
   "metadata": {},
   "outputs": [],
   "source": [
    "import keras \n",
    "from keras import layers\n",
    "from keras import optimizers\n",
    "import pandas as pd\n",
    "import numpy as np\n",
    "from matplotlib import pyplot as plt\n",
    "from sklearn.model_selection import train_test_split\n",
    "#import cv2 as cv"
   ]
  },
  {
   "cell_type": "code",
   "execution_count": 25,
   "metadata": {},
   "outputs": [
    {
     "name": "stdout",
     "output_type": "stream",
     "text": [
      "Data shape: x_train: (121, 450) x_test: (53, 450)\n",
      "Data shape: y_train: (121,) y_test: (53,)\n"
     ]
    }
   ],
   "source": [
    "## load the alzheimers dataset\n",
    "def load_data(test_split = 0.3):\n",
    "    \n",
    "    ## (1) Data preparation\n",
    "    df=pd.read_csv('AlzData.csv', sep = ',')\n",
    "    print(df)\n",
    "    \n",
    "    # rm ids, rm targets\n",
    "    transposedDataFrameVals = df.values.T[1:-1]\n",
    "    #walk thru features\n",
    "    for i, row in enumerate(transposedDataFrameVals):\n",
    "        #normalize data [0,1]\n",
    "        transposedDataFrameVals[i] = row.astype(float) / max(row.astype(float))\n",
    "    \n",
    "    #assign normalized data\n",
    "    X = transposedDataFrameVals.T\n",
    "    #assign targets\n",
    "    Y = df.values.T[-1]\n",
    "\n",
    "    # data split of 70 training and 30 test\n",
    "    x_train, x_test, y_train, y_test = train_test_split(X, Y, test_size=test_split)\n",
    "        \n",
    "    return x_train, y_train, x_test, y_test\n",
    "\n",
    "x_train, y_train, x_test, y_test = load_data()\n",
    "\n",
    "print('Data shape:', 'x_train:', x_train.shape, 'x_test:', x_test.shape)\n",
    "print('Data shape:', 'y_train:', y_train.shape, 'y_test:', y_test.shape)\n"
   ]
  },
  {
   "cell_type": "code",
   "execution_count": 55,
   "metadata": {},
   "outputs": [
    {
     "name": "stdout",
     "output_type": "stream",
     "text": [
      "Model: \"sequential_3\"\n",
      "_________________________________________________________________\n",
      " Layer (type)                Output Shape              Param #   \n",
      "=================================================================\n",
      " conv2d_2 (Conv2D)           (None, None, None, 8)     80        \n",
      "                                                                 \n",
      " dropout_2 (Dropout)         (None, None, None, 8)     0         \n",
      "                                                                 \n",
      " batch_normalization_2 (Batc  (None, None, None, 8)    32        \n",
      " hNormalization)                                                 \n",
      "                                                                 \n",
      " activation_2 (Activation)   (None, None, None, 8)     0         \n",
      "                                                                 \n",
      " conv2d_3 (Conv2D)           (None, None, None, 16)    1168      \n",
      "                                                                 \n",
      " dropout_3 (Dropout)         (None, None, None, 16)    0         \n",
      "                                                                 \n",
      " batch_normalization_3 (Batc  (None, None, None, 16)   64        \n",
      " hNormalization)                                                 \n",
      "                                                                 \n",
      " activation_3 (Activation)   (None, None, None, 16)    0         \n",
      "                                                                 \n",
      " global_max_pooling2d_1 (Glo  (None, 16)               0         \n",
      " balMaxPooling2D)                                                \n",
      "                                                                 \n",
      "=================================================================\n",
      "Total params: 1,344\n",
      "Trainable params: 1,296\n",
      "Non-trainable params: 48\n",
      "_________________________________________________________________\n"
     ]
    }
   ],
   "source": [
    "# expand dims for channels?\n",
    "\n",
    "desiredLevels = 2\n",
    "\n",
    "def CreateConvLayer(convLayers, model, filters, kernel_size, activation = None, padding = \"valid\"):\n",
    "    conv = layers.Conv2D(\n",
    "        filters= filters, #num of filters for conv\n",
    "        kernel_size = kernel_size, \n",
    "        padding = padding,\n",
    "        activation = activation,\n",
    "        #input_shape = (28, 28, 1) #only 28 params \n",
    "    )\n",
    "    \n",
    "    convLayers.append(conv)\n",
    "    model.add(conv)\n",
    "    \n",
    "def CreateMaxPoolLayer(poolLayers, model, pool_size, strides):\n",
    "    pool = layers.MaxPooling2D(\n",
    "        pool_size = pool_size,\n",
    "        strides = strides,\n",
    "    )\n",
    "    \n",
    "    poolLayers.append(pool)\n",
    "    model.add(pool)\n",
    "    \n",
    "def CreateConvBlock(\n",
    "    model, convLayers, poolLayers, normLayers, activationLayers,\n",
    "    filters, kernel_size, activation,\n",
    "    pool_size, strides\n",
    "):\n",
    "    CreateConvLayer(convLayers, model, filters, kernel_size)\n",
    "    #CreateMaxPoolLayer(poolLayers, model, pool_size, strides)\n",
    "    \n",
    "    dropout = layers.Dropout(0.2)\n",
    "    model.add(dropout)\n",
    "    \n",
    "    norm = layers.BatchNormalization()\n",
    "    model.add(norm)\n",
    "    normLayers.append(norm)\n",
    "\n",
    "    activ = layers.Activation(activation)\n",
    "    model.add(activ)\n",
    "    activationLayers.append(activ)\n",
    "    \n",
    "# Create a fully conv NN\n",
    "model_fcn = keras.Sequential()\n",
    "\n",
    "convLayers = []\n",
    "poolLayers = []\n",
    "normLayers = []\n",
    "activationLayers = []\n",
    "\n",
    "# Input layer\n",
    "input = layers.Input(shape=(None, None, 1))\n",
    "model_fcn.add(input)\n",
    "\n",
    "CreateConvBlock(\n",
    "    model_fcn, convLayers, poolLayers, normLayers, activationLayers,\n",
    "    filters=8, kernel_size=3, activation='relu',\n",
    "    pool_size=2, strides=2\n",
    ")\n",
    "\n",
    "CreateConvBlock(\n",
    "    model_fcn, convLayers, poolLayers, normLayers, activationLayers,\n",
    "    filters=16, kernel_size=3, activation='softmax',\n",
    "    pool_size=2, strides=2\n",
    ")\n",
    "\n",
    "globMaxPool = layers.GlobalMaxPooling2D()\n",
    "model_fcn.add(globMaxPool)\n",
    "\n",
    "model_fcn(inputs=x_train, outputs=y_train)\n",
    "\n",
    "#need normalization and output layers\n",
    "\n",
    "#specify optimization\n",
    "model_fcn.compile(optimizer=optimizers.Adam(), loss='categorical_crossentropy', metrics=['accuracy'])\n",
    "\n",
    "model_fcn.summary()\n",
    "\n"
   ]
  },
  {
   "cell_type": "code",
   "execution_count": null,
   "metadata": {},
   "outputs": [],
   "source": [
    "#train model\n",
    "history = model_fcn.fit(\n",
    "    x_train, #should be 2d inputs\n",
    "    y_train, #already onehot\n",
    "    batch_size=64,\n",
    "    epochs=10,\n",
    "    verbose=1,\n",
    "    validation_split=0.2,\n",
    ")"
   ]
  },
  {
   "cell_type": "code",
   "execution_count": null,
   "metadata": {},
   "outputs": [],
   "source": [
    "#test accuracy\n",
    "y_test_pred = model_fcn.predict(x_test)\n",
    "y_test_pred = np.argmax(y_test_pred, axis=1) #still need to do bc pred is prob?\n",
    "test_err = np.sum(y_test == y_test_pred) / y_test.shape[0]\n",
    "\n",
    "print(f'test accuracy: {test_err * 100}')"
   ]
  },
  {
   "cell_type": "code",
   "execution_count": null,
   "metadata": {},
   "outputs": [],
   "source": [
    "#history of training and validation accuracu\n",
    "plt.plot(history.history['accuracy'])\n",
    "plt.plot(history.history['val_accuracy'])\n",
    "plt.legend(['training acc', 'validation acc'])"
   ]
  },
  {
   "cell_type": "code",
   "execution_count": null,
   "metadata": {},
   "outputs": [],
   "source": [
    "#get access to filters/kernels\n",
    "weights = convLayers[0].get_weights()[0][:, :, 0, :] #arr of a buncha nested lists, 0 bc only have 1 channel (28, 28, 1, 8)\n",
    "\n",
    "#can get access to other params this way \n",
    "\n",
    "for i in range(1, 8):\n",
    "    plt.subplot(2, 4, i)\n",
    "    plt.imshow(weights[:,:,i], cmap=\"gray\")\n",
    "plt.show()\n",
    "\n",
    "#how get access to feature maps?"
   ]
  }
 ],
 "metadata": {
  "kernelspec": {
   "display_name": "Python 3.10.8 ('EvoComp': venv)",
   "language": "python",
   "name": "python3"
  },
  "language_info": {
   "codemirror_mode": {
    "name": "ipython",
    "version": 3
   },
   "file_extension": ".py",
   "mimetype": "text/x-python",
   "name": "python",
   "nbconvert_exporter": "python",
   "pygments_lexer": "ipython3",
   "version": "3.10.8"
  },
  "orig_nbformat": 4,
  "vscode": {
   "interpreter": {
    "hash": "4fe32189b82d98f8d4c6c56307210a678aeb8b7128cbceacf7b4eb9894a56bcc"
   }
  }
 },
 "nbformat": 4,
 "nbformat_minor": 2
}
